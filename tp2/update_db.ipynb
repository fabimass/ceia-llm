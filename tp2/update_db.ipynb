{
 "cells": [
  {
   "cell_type": "code",
   "execution_count": 1,
   "metadata": {},
   "outputs": [
    {
     "name": "stderr",
     "output_type": "stream",
     "text": [
      "c:\\Users\\Fabi\\Documents\\repos\\ceia-llm\\venv\\Lib\\site-packages\\pinecone\\data\\index.py:1: TqdmWarning: IProgress not found. Please update jupyter and ipywidgets. See https://ipywidgets.readthedocs.io/en/stable/user_install.html\n",
      "  from tqdm.autonotebook import tqdm\n"
     ]
    }
   ],
   "source": [
    "import os\n",
    "from langchain_text_splitters import RecursiveCharacterTextSplitter\n",
    "from langchain_community.document_loaders import PyPDFLoader\n",
    "from langchain_huggingface import HuggingFaceEmbeddings\n",
    "from langchain_pinecone import PineconeVectorStore\n",
    "from pinecone import Pinecone, ServerlessSpec"
   ]
  },
  {
   "cell_type": "markdown",
   "metadata": {},
   "source": [
    "#### Cargo el pdf y lo separo en chunks"
   ]
  },
  {
   "cell_type": "code",
   "execution_count": 9,
   "metadata": {},
   "outputs": [
    {
     "name": "stdout",
     "output_type": "stream",
     "text": [
      "Number of chunks: 5\n",
      "page_content='EDUCATION\n",
      "RICHARD SANCHEZ\n",
      "MARKETING MANAGER \n",
      "CONTACT\n",
      "+123-456-7890\n",
      "hello@reallygreatsite.com\n",
      "123 Anywhere St., Any City\n",
      "www.reallygreatsite.com\n",
      "SKILLS\n",
      "Project Management\n",
      "Public Relations\n",
      "Teamwork\n",
      "Time Management\n",
      "Leadership\n",
      "Effective Communication\n",
      "Critical Thinking\n",
      "WARDIERE UNIVERSITY\n",
      "Master of Business\n",
      "Management\n",
      "2029 - 2030\n",
      "2025 - 2029 \n",
      "WARDIERE UNIVERSITY\n",
      "Bachelor of Business\n",
      "GPA: 3.8 / 4.0\n",
      "English (Fluent)\n",
      "French (Fluent)\n",
      "German (Basics)\n",
      "Spanish (Intermediate)\n",
      "LANGUAGES\n",
      "WORK EXPERIENCE\n",
      "REFERENCE\n",
      "PROFILE' metadata={'source': './docs/mock-cv.pdf', 'page': 0}\n"
     ]
    }
   ],
   "source": [
    "splitter = RecursiveCharacterTextSplitter(chunk_size=512, chunk_overlap=64)\n",
    "\n",
    "loader = PyPDFLoader(\"./docs/mock-cv.pdf\")\n",
    "\n",
    "chunks = loader.load_and_split(text_splitter=splitter)\n",
    "\n",
    "print(f\"Number of chunks: {len(chunks)}\")\n",
    "\n",
    "print(chunks[0])"
   ]
  },
  {
   "cell_type": "markdown",
   "metadata": {},
   "source": [
    "#### Embeddings"
   ]
  },
  {
   "cell_type": "code",
   "execution_count": 3,
   "metadata": {},
   "outputs": [],
   "source": [
    "embed_model = HuggingFaceEmbeddings(model_name=\"sentence-transformers/all-mpnet-base-v2\")"
   ]
  },
  {
   "cell_type": "markdown",
   "metadata": {},
   "source": [
    "#### Base de datos vectorial"
   ]
  },
  {
   "cell_type": "code",
   "execution_count": 10,
   "metadata": {},
   "outputs": [
    {
     "name": "stdout",
     "output_type": "stream",
     "text": [
      "index creado con el nombre: mock-cv\n"
     ]
    }
   ],
   "source": [
    "PINECONE_API_KEY=os.getenv(\"API_KEY_PINECONE\")\n",
    "\n",
    "#Connect to DB Pinecone\n",
    "pc=Pinecone(api_key=PINECONE_API_KEY)\n",
    "cloud = os.environ.get('PINECONE_CLOUD') or 'aws'\n",
    "region = os.environ.get('PINECONE_REGION') or 'us-east-1'\n",
    "spec = ServerlessSpec(cloud=cloud, region=region)\n",
    "index_name = 'mock-cv'\n",
    "\n",
    "if index_name in pc.list_indexes().names():\n",
    "  pc.delete_index(index_name)\n",
    "  print(\"index {} borrado\".format(index_name))\n",
    "\n",
    "# check if index already exists (it shouldn't if this is first time)\n",
    "if index_name not in pc.list_indexes().names():\n",
    "    # if does not exist, create index\n",
    "    print(\"index creado con el nombre: {}\".format(index_name))\n",
    "    pc.create_index(\n",
    "        index_name,\n",
    "        dimension=768,  # dimensionality of sentence-transformers/all-mpnet-base-v2\n",
    "        metric='cosine',\n",
    "        spec=spec\n",
    "        )\n",
    "else:\n",
    "    print(\"el index con el nombre {} ya estaba creado\".format(index_name))"
   ]
  },
  {
   "cell_type": "code",
   "execution_count": 12,
   "metadata": {},
   "outputs": [],
   "source": [
    "pinecone = PineconeVectorStore(\n",
    "    embedding=embed_model,\n",
    "    index_name=\"mock-cv\",\n",
    "    pinecone_api_key=PINECONE_API_KEY\n",
    ")"
   ]
  },
  {
   "cell_type": "code",
   "execution_count": 13,
   "metadata": {},
   "outputs": [
    {
     "name": "stdout",
     "output_type": "stream",
     "text": [
      "Documentos a insertar: 5.\n",
      "Insertados 5 documentos con éxito.\n"
     ]
    }
   ],
   "source": [
    "print(f\"Documentos a insertar: {len(chunks)}.\")\n",
    "\n",
    "inserted_ids = pinecone.add_documents(chunks)\n",
    "\n",
    "print(f\"Insertados {len(inserted_ids)} documentos con éxito.\")"
   ]
  }
 ],
 "metadata": {
  "kernelspec": {
   "display_name": "venv",
   "language": "python",
   "name": "python3"
  },
  "language_info": {
   "codemirror_mode": {
    "name": "ipython",
    "version": 3
   },
   "file_extension": ".py",
   "mimetype": "text/x-python",
   "name": "python",
   "nbconvert_exporter": "python",
   "pygments_lexer": "ipython3",
   "version": "3.12.7"
  }
 },
 "nbformat": 4,
 "nbformat_minor": 2
}
