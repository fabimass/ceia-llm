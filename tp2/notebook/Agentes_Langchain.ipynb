{
 "cells": [
  {
   "cell_type": "markdown",
   "id": "21fa2e13-567d-4509-9023-c99fb230f31f",
   "metadata": {},
   "source": [
    "Agente ReACT con LangGraph Components"
   ]
  },
  {
   "cell_type": "code",
   "execution_count": 2,
   "id": "d0168aee-bce9-4d60-b827-f86a88187e31",
   "metadata": {
    "height": 132
   },
   "outputs": [
    {
     "name": "stderr",
     "output_type": "stream",
     "text": [
      "c:\\Users\\Fabi\\Documents\\repos\\ceia-llm\\venv\\Lib\\site-packages\\pinecone\\data\\index.py:1: TqdmWarning: IProgress not found. Please update jupyter and ipywidgets. See https://ipywidgets.readthedocs.io/en/stable/user_install.html\n",
      "  from tqdm.autonotebook import tqdm\n"
     ]
    }
   ],
   "source": [
    "from langgraph.graph import StateGraph\n",
    "from typing import TypedDict, List\n",
    "from groq import Groq\n",
    "from langchain_huggingface import HuggingFaceEmbeddings\n",
    "from langchain_pinecone import PineconeVectorStore\n",
    "import os\n",
    "import re"
   ]
  },
  {
   "cell_type": "code",
   "execution_count": 3,
   "id": "a2ba84ec-c172-4de7-ac55-e3158a531b23",
   "metadata": {
    "height": 47
   },
   "outputs": [],
   "source": [
    "class AgentState(TypedDict):\n",
    "    question: str\n",
    "    context: List[str]\n",
    "    detector: List[str]\n",
    "    agent: str\n",
    "    llm: str\n",
    "    complete: bool"
   ]
  },
  {
   "cell_type": "code",
   "execution_count": 4,
   "id": "cccdd74a",
   "metadata": {},
   "outputs": [],
   "source": [
    "class AgentRag:\n",
    "    \n",
    "    def __init__(self, index): \n",
    "\n",
    "        # Embeddings\n",
    "        self.embed_model = HuggingFaceEmbeddings(model_name=\"sentence-transformers/all-mpnet-base-v2\")\n",
    "        \n",
    "        # Conexión con base de datos\n",
    "        self.vstore = PineconeVectorStore(\n",
    "            embedding=self.embed_model,\n",
    "            index_name=index,\n",
    "            pinecone_api_key=os.getenv(\"API_KEY_PINECONE\")\n",
    "        )\n",
    "       \n",
    "    def search(self, state: AgentState):\n",
    "        if \"context\" in state:\n",
    "            context_list = state[\"context\"]\n",
    "        else:\n",
    "            context_list = []\n",
    "        \n",
    "        context = \"\"\n",
    "        results = self.vstore.similarity_search(state[\"question\"], k=3)\n",
    "        for res in results:\n",
    "            context += res.page_content\n",
    "        \n",
    "        return { \"context\": context_list + [context] } "
   ]
  },
  {
   "cell_type": "code",
   "execution_count": 5,
   "id": "10084a02-2928-4945-9f7c-ad3f5b33caf7",
   "metadata": {
    "height": 166
   },
   "outputs": [],
   "source": [
    "agent_1 = AgentRag(\"fabian-cv\")\n",
    "agent_2 = AgentRag(\"mock-cv\")"
   ]
  },
  {
   "cell_type": "code",
   "execution_count": 10,
   "id": "79f6f882",
   "metadata": {},
   "outputs": [
    {
     "data": {
      "text/plain": [
       "{'context': ['key to success. A problem solver at heart, I approach\\nchallenging scenarios with a creative mindset and enjoy\\nfinding solutions.\\nPROFILE\\nCountry of origin: Argentina\\nEmail: massotto.fabian@gmail.com\\nPhone: +54 9 11 3146 2971\\nLinkedIn: linkedin.com/in/massottofabian\\nGitHub: github.com/fabimass\\nPortfolio: fabianmassotto.vercel.app\\nCONTACT INFO\\nPython\\nDjango\\nAzure\\nTerraform\\nGitHub\\nDocker\\nBackstage\\nStorybookboost productivity for engineering teams.\\nErnst & Young\\nSoftware Engineer\\nJun 2019 - Jul 2020\\nAs a member of the Computer Forensics team, my main\\nresponsibilities involved engineering ETL pipelines to\\ntransform digital evidence into structured formats, making\\ndata accessible and actionable for auditors and fraud\\ninvestigators.\\nCAREER SUMMARY\\nUniversity of Buenos Aires\\nMaster’s degree, Artificial Intelligence         Mar 2024  - Present\\nUniversidad Tecnológica NacionalFABIAN MASSOTTO\\nSOFTWARE ENGINEER\\nExxonMobil\\nSoftware Engineer\\nJul 2020 - Present\\nSpecialized in design and development of cloud-based web\\napplications, my daily responsibilities involve every aspect of\\nthe web development lifecycle, including frontend and backend\\ncoding, CI/CD pipelines, infrastructure as code, and testing.\\nOver the past years, I have worked with various cross-\\nfunctional teams, providing guidance on web development\\nbest practices, diagnosing application performance issues, and']}"
      ]
     },
     "execution_count": 10,
     "metadata": {},
     "output_type": "execute_result"
    }
   ],
   "source": [
    "agent_1.search({\"question\": \"de que trabaja Fabian?\"})"
   ]
  },
  {
   "cell_type": "code",
   "execution_count": 12,
   "id": "17e8d5ec",
   "metadata": {},
   "outputs": [
    {
     "data": {
      "text/plain": [
       "{'context': [\"EDUCATION\\nRICHARD SANCHEZ\\nMARKETING MANAGER \\nCONTACT\\n+123-456-7890\\nhello@reallygreatsite.com\\n123 Anywhere St., Any City\\nwww.reallygreatsite.com\\nSKILLS\\nProject Management\\nPublic Relations\\nTeamwork\\nTime Management\\nLeadership\\nEffective Communication\\nCritical Thinking\\nWARDIERE UNIVERSITY\\nMaster of Business\\nManagement\\n2029 - 2030\\n2025 - 2029 \\nWARDIERE UNIVERSITY\\nBachelor of Business\\nGPA: 3.8 / 4.0\\nEnglish (Fluent)\\nFrench (Fluent)\\nGerman (Basics)\\nSpanish (Intermediate)\\nLANGUAGES\\nWORK EXPERIENCE\\nREFERENCE\\nPROFILELANGUAGES\\nWORK EXPERIENCE\\nREFERENCE\\nPROFILE\\nLorem ipsum dolor sit amet, consectetur adipiscing elit, sed do eiusmod tempor\\nincididunt ut labore et dolore magna aliqua. Ut enim ad minim veniam quis\\nnostrud exercitation. Lorem ipsum dolor sit amet, consectetur adipiscing elit,\\nsed do eiusmod tempor incididunt ut labore et dolore magna aliqua. Ut enim ad\\nminim veniam quis nostrud exercitation. Ut enim ad minim veniam quis nostrud\\nexercitation.\\n123-456-7890\\nhello@reallygreatsite.com\\nHarper Richard\\nPhone:123-456-7890\\nhello@reallygreatsite.com\\nHarper Richard\\nPhone: \\nEmail :\\nWardiere Inc. / CEO\\n123-456-7890\\nhello@reallygreatsite.com\\nEstelle Darcy\\nPhone: \\nEmail :\\nWardiere Inc. / CTO\\n2030 - PRESENTBorcelle Studio\\nMarketing Manager & Specialist \\n 2025 -  2029 Fauget Studio\\nMarketing Manager & Specialist \\n 2024 - 2025 Studio Shodwe \\nMarketing Manager & Specialist \\nDevelop and execute comprehensive marketing strategies and\\ncampaigns that align with the company's goals and objectives.\"]}"
      ]
     },
     "execution_count": 12,
     "metadata": {},
     "output_type": "execute_result"
    }
   ],
   "source": [
    "agent_2.search({\"question\": \"de que trabaja Richard?\"})"
   ]
  },
  {
   "cell_type": "code",
   "execution_count": 6,
   "id": "a75fe167",
   "metadata": {},
   "outputs": [],
   "source": [
    "# Crea el cliente de GROQ\n",
    "llm_client = Groq(api_key=os.environ.get(\"API_KEY_GROQ\"))\n",
    "\n",
    "def llm(state: AgentState):\n",
    "    input = state[\"question\"]\n",
    "    context = \"\"\n",
    "    for ctx in state[\"context\"]:\n",
    "        context += ctx\n",
    "        \n",
    "    query = f\"\"\"\n",
    "    Contesta la siguiente pregunta en base al contexto provisto.\n",
    "\n",
    "    Pregunta: {input}\n",
    "\n",
    "    Contexto: {context}\n",
    "    \"\"\"\n",
    "\n",
    "    # Genera la respuesta del chatbot utilizando el modelo LLaMA 3\n",
    "    chat_completion = llm_client.chat.completions.create(\n",
    "        messages=[{\"role\": \"user\", \"content\": query}],\n",
    "        model=\"llama3-8b-8192\",\n",
    "    )\n",
    "    response = chat_completion.choices[0].message.content\n",
    "\n",
    "    return {\"llm\": response}"
   ]
  },
  {
   "cell_type": "code",
   "execution_count": 7,
   "id": "47fa8fd1",
   "metadata": {},
   "outputs": [],
   "source": [
    "# Esta funcion detecta patrones en la pregunta del usuario\n",
    "def detector(state: AgentState):\n",
    "    persons_detected = []\n",
    "    patterns = {\n",
    "        \"mock\": r'\\brichard\\b.*\\?',\n",
    "        \"fabian\": r'\\bfabian\\b.*\\?'\n",
    "    }\n",
    "    \n",
    "    for name, pattern in patterns.items():\n",
    "        match = bool(re.search(pattern, state[\"question\"], re.IGNORECASE))\n",
    "        if match:\n",
    "            persons_detected.append(name)\n",
    "\n",
    "    # Si no se detecto ningun patron, se va a utilizar el cv del alumno\n",
    "    if len(persons_detected) == 0:\n",
    "        persons_detected.append(\"fabian\")\n",
    "        \n",
    "    return {\"detector\": persons_detected, \"context\": []}"
   ]
  },
  {
   "cell_type": "code",
   "execution_count": 8,
   "id": "7a82d229",
   "metadata": {},
   "outputs": [],
   "source": [
    "# Esta funcion chequea si tiene que seguir iterando o no\n",
    "def orchestrator(state: AgentState):\n",
    "    print(state)\n",
    "    if len(state[\"context\"]) == len(state[\"detector\"]):\n",
    "        return { \"complete\": True } \n",
    "    else:\n",
    "        return { \"complete\": False } "
   ]
  },
  {
   "cell_type": "code",
   "execution_count": 9,
   "id": "f766962e",
   "metadata": {},
   "outputs": [],
   "source": [
    "# Esta funcion indica a que nodo ir desde el orchestrator\n",
    "def next_node(state: AgentState):\n",
    "    if state[\"complete\"]:\n",
    "        return \"llm\"\n",
    "    else:\n",
    "        return state[\"detector\"][len(state[\"context\"])]"
   ]
  },
  {
   "cell_type": "code",
   "execution_count": 10,
   "id": "ed7179e4",
   "metadata": {},
   "outputs": [],
   "source": [
    "builder = StateGraph(AgentState)\n",
    "\n",
    "builder.add_node(\"detector_node\", detector)\n",
    "builder.add_node(\"orchestrator_node\", orchestrator)\n",
    "builder.add_node(\"agent_1\", agent_1.search)\n",
    "builder.add_node(\"agent_2\", agent_2.search)\n",
    "builder.add_node(\"llm_node\", llm)\n",
    "\n",
    "builder.add_edge(\"detector_node\", \"orchestrator_node\")\n",
    "builder.add_conditional_edges(\n",
    "    \"orchestrator_node\", \n",
    "    next_node, \n",
    "    {\"fabian\": \"agent_1\", \"mock\": \"agent_2\", \"llm\": \"llm_node\"}\n",
    ")\n",
    "builder.add_edge(\"agent_1\", \"orchestrator_node\")\n",
    "builder.add_edge(\"agent_2\", \"orchestrator_node\")\n",
    "\n",
    "builder.set_entry_point(\"detector_node\")\n",
    "\n",
    "graph = builder.compile()"
   ]
  },
  {
   "cell_type": "code",
   "execution_count": 13,
   "id": "ee683f69",
   "metadata": {},
   "outputs": [
    {
     "name": "stdout",
     "output_type": "stream",
     "text": [
      "%%{init: {'flowchart': {'curve': 'linear'}}}%%\n",
      "graph TD;\n",
      "\t__start__([<p>__start__</p>]):::first\n",
      "\tdetector_node(detector_node)\n",
      "\torchestrator_node(orchestrator_node)\n",
      "\tagent_1(agent_1)\n",
      "\tagent_2(agent_2)\n",
      "\tllm_node([llm_node]):::last\n",
      "\t__start__ --> detector_node;\n",
      "\tagent_1 --> orchestrator_node;\n",
      "\tagent_2 --> orchestrator_node;\n",
      "\tdetector_node --> orchestrator_node;\n",
      "\torchestrator_node -. &nbsp;fabian&nbsp; .-> agent_1;\n",
      "\torchestrator_node -. &nbsp;mock&nbsp; .-> agent_2;\n",
      "\torchestrator_node -. &nbsp;llm&nbsp; .-> llm_node;\n",
      "\tclassDef default fill:#f2f0ff,line-height:1.2\n",
      "\tclassDef first fill-opacity:0\n",
      "\tclassDef last fill:#bfb6fc\n",
      "\n"
     ]
    }
   ],
   "source": [
    "print(graph.get_graph().draw_mermaid())"
   ]
  },
  {
   "cell_type": "markdown",
   "id": "cbb12e5d",
   "metadata": {},
   "source": [
    "![graph](./graph.png)"
   ]
  },
  {
   "cell_type": "code",
   "execution_count": 63,
   "id": "bd154adc",
   "metadata": {},
   "outputs": [
    {
     "name": "stdout",
     "output_type": "stream",
     "text": [
      "{'question': 'cual es la profesion de Fabian?', 'context': [], 'detector': ['fabian']}\n",
      "{'question': 'cual es la profesion de Fabian?', 'context': ['key to success. A problem solver at heart, I approach\\nchallenging scenarios with a creative mindset and enjoy\\nfinding solutions.\\nPROFILE\\nCountry of origin: Argentina\\nEmail: massotto.fabian@gmail.com\\nPhone: +54 9 11 3146 2971\\nLinkedIn: linkedin.com/in/massottofabian\\nGitHub: github.com/fabimass\\nPortfolio: fabianmassotto.vercel.app\\nCONTACT INFO\\nPython\\nDjango\\nAzure\\nTerraform\\nGitHub\\nDocker\\nBackstage\\nStorybookboost productivity for engineering teams.\\nErnst & Young\\nSoftware Engineer\\nJun 2019 - Jul 2020\\nAs a member of the Computer Forensics team, my main\\nresponsibilities involved engineering ETL pipelines to\\ntransform digital evidence into structured formats, making\\ndata accessible and actionable for auditors and fraud\\ninvestigators.\\nCAREER SUMMARY\\nUniversity of Buenos Aires\\nMaster’s degree, Artificial Intelligence         Mar 2024  - Present\\nUniversidad Tecnológica NacionalFABIAN MASSOTTO\\nSOFTWARE ENGINEER\\nExxonMobil\\nSoftware Engineer\\nJul 2020 - Present\\nSpecialized in design and development of cloud-based web\\napplications, my daily responsibilities involve every aspect of\\nthe web development lifecycle, including frontend and backend\\ncoding, CI/CD pipelines, infrastructure as code, and testing.\\nOver the past years, I have worked with various cross-\\nfunctional teams, providing guidance on web development\\nbest practices, diagnosing application performance issues, and'], 'detector': ['fabian'], 'complete': False}\n"
     ]
    },
    {
     "data": {
      "text/plain": [
       "{'question': 'cual es la profesion de Fabian?',\n",
       " 'context': ['key to success. A problem solver at heart, I approach\\nchallenging scenarios with a creative mindset and enjoy\\nfinding solutions.\\nPROFILE\\nCountry of origin: Argentina\\nEmail: massotto.fabian@gmail.com\\nPhone: +54 9 11 3146 2971\\nLinkedIn: linkedin.com/in/massottofabian\\nGitHub: github.com/fabimass\\nPortfolio: fabianmassotto.vercel.app\\nCONTACT INFO\\nPython\\nDjango\\nAzure\\nTerraform\\nGitHub\\nDocker\\nBackstage\\nStorybookboost productivity for engineering teams.\\nErnst & Young\\nSoftware Engineer\\nJun 2019 - Jul 2020\\nAs a member of the Computer Forensics team, my main\\nresponsibilities involved engineering ETL pipelines to\\ntransform digital evidence into structured formats, making\\ndata accessible and actionable for auditors and fraud\\ninvestigators.\\nCAREER SUMMARY\\nUniversity of Buenos Aires\\nMaster’s degree, Artificial Intelligence         Mar 2024  - Present\\nUniversidad Tecnológica NacionalFABIAN MASSOTTO\\nSOFTWARE ENGINEER\\nExxonMobil\\nSoftware Engineer\\nJul 2020 - Present\\nSpecialized in design and development of cloud-based web\\napplications, my daily responsibilities involve every aspect of\\nthe web development lifecycle, including frontend and backend\\ncoding, CI/CD pipelines, infrastructure as code, and testing.\\nOver the past years, I have worked with various cross-\\nfunctional teams, providing guidance on web development\\nbest practices, diagnosing application performance issues, and'],\n",
       " 'detector': ['fabian'],\n",
       " 'llm': 'Según el contexto proporcionado, la profesión de Fabian es Software Engineer.',\n",
       " 'complete': True}"
      ]
     },
     "execution_count": 63,
     "metadata": {},
     "output_type": "execute_result"
    }
   ],
   "source": [
    "graph.invoke({\"question\": \"cual es la profesion de Fabian?\"})"
   ]
  },
  {
   "cell_type": "code",
   "execution_count": 61,
   "id": "6167815e",
   "metadata": {},
   "outputs": [
    {
     "name": "stdout",
     "output_type": "stream",
     "text": [
      "{'question': 'cual es la profesion de Richard?', 'context': [], 'detector': ['mock']}\n",
      "{'question': 'cual es la profesion de Richard?', 'context': [\"EDUCATION\\nRICHARD SANCHEZ\\nMARKETING MANAGER \\nCONTACT\\n+123-456-7890\\nhello@reallygreatsite.com\\n123 Anywhere St., Any City\\nwww.reallygreatsite.com\\nSKILLS\\nProject Management\\nPublic Relations\\nTeamwork\\nTime Management\\nLeadership\\nEffective Communication\\nCritical Thinking\\nWARDIERE UNIVERSITY\\nMaster of Business\\nManagement\\n2029 - 2030\\n2025 - 2029 \\nWARDIERE UNIVERSITY\\nBachelor of Business\\nGPA: 3.8 / 4.0\\nEnglish (Fluent)\\nFrench (Fluent)\\nGerman (Basics)\\nSpanish (Intermediate)\\nLANGUAGES\\nWORK EXPERIENCE\\nREFERENCE\\nPROFILELANGUAGES\\nWORK EXPERIENCE\\nREFERENCE\\nPROFILE\\nLorem ipsum dolor sit amet, consectetur adipiscing elit, sed do eiusmod tempor\\nincididunt ut labore et dolore magna aliqua. Ut enim ad minim veniam quis\\nnostrud exercitation. Lorem ipsum dolor sit amet, consectetur adipiscing elit,\\nsed do eiusmod tempor incididunt ut labore et dolore magna aliqua. Ut enim ad\\nminim veniam quis nostrud exercitation. Ut enim ad minim veniam quis nostrud\\nexercitation.\\n123-456-7890\\nhello@reallygreatsite.com\\nHarper Richard\\nPhone:123-456-7890\\nhello@reallygreatsite.com\\nHarper Richard\\nPhone: \\nEmail :\\nWardiere Inc. / CEO\\n123-456-7890\\nhello@reallygreatsite.com\\nEstelle Darcy\\nPhone: \\nEmail :\\nWardiere Inc. / CTO\\n2030 - PRESENTBorcelle Studio\\nMarketing Manager & Specialist \\n 2025 -  2029 Fauget Studio\\nMarketing Manager & Specialist \\n 2024 - 2025 Studio Shodwe \\nMarketing Manager & Specialist \\nDevelop and execute comprehensive marketing strategies and\\ncampaigns that align with the company's goals and objectives.\"], 'detector': ['mock'], 'complete': False}\n"
     ]
    },
    {
     "data": {
      "text/plain": [
       "{'question': 'cual es la profesion de Richard?',\n",
       " 'context': [\"EDUCATION\\nRICHARD SANCHEZ\\nMARKETING MANAGER \\nCONTACT\\n+123-456-7890\\nhello@reallygreatsite.com\\n123 Anywhere St., Any City\\nwww.reallygreatsite.com\\nSKILLS\\nProject Management\\nPublic Relations\\nTeamwork\\nTime Management\\nLeadership\\nEffective Communication\\nCritical Thinking\\nWARDIERE UNIVERSITY\\nMaster of Business\\nManagement\\n2029 - 2030\\n2025 - 2029 \\nWARDIERE UNIVERSITY\\nBachelor of Business\\nGPA: 3.8 / 4.0\\nEnglish (Fluent)\\nFrench (Fluent)\\nGerman (Basics)\\nSpanish (Intermediate)\\nLANGUAGES\\nWORK EXPERIENCE\\nREFERENCE\\nPROFILELANGUAGES\\nWORK EXPERIENCE\\nREFERENCE\\nPROFILE\\nLorem ipsum dolor sit amet, consectetur adipiscing elit, sed do eiusmod tempor\\nincididunt ut labore et dolore magna aliqua. Ut enim ad minim veniam quis\\nnostrud exercitation. Lorem ipsum dolor sit amet, consectetur adipiscing elit,\\nsed do eiusmod tempor incididunt ut labore et dolore magna aliqua. Ut enim ad\\nminim veniam quis nostrud exercitation. Ut enim ad minim veniam quis nostrud\\nexercitation.\\n123-456-7890\\nhello@reallygreatsite.com\\nHarper Richard\\nPhone:123-456-7890\\nhello@reallygreatsite.com\\nHarper Richard\\nPhone: \\nEmail :\\nWardiere Inc. / CEO\\n123-456-7890\\nhello@reallygreatsite.com\\nEstelle Darcy\\nPhone: \\nEmail :\\nWardiere Inc. / CTO\\n2030 - PRESENTBorcelle Studio\\nMarketing Manager & Specialist \\n 2025 -  2029 Fauget Studio\\nMarketing Manager & Specialist \\n 2024 - 2025 Studio Shodwe \\nMarketing Manager & Specialist \\nDevelop and execute comprehensive marketing strategies and\\ncampaigns that align with the company's goals and objectives.\"],\n",
       " 'detector': ['mock'],\n",
       " 'llm': 'La profesión de Richard es Marketing Manager.',\n",
       " 'complete': True}"
      ]
     },
     "execution_count": 61,
     "metadata": {},
     "output_type": "execute_result"
    }
   ],
   "source": [
    "graph.invoke({\"question\": \"cual es la profesion de Richard?\"})"
   ]
  },
  {
   "cell_type": "code",
   "execution_count": 58,
   "id": "353d4adb",
   "metadata": {},
   "outputs": [
    {
     "name": "stdout",
     "output_type": "stream",
     "text": [
      "{'question': 'donde trabaja?', 'context': [], 'detector': ['fabian']}\n",
      "{'question': 'donde trabaja?', 'context': ['key to success. A problem solver at heart, I approach\\nchallenging scenarios with a creative mindset and enjoy\\nfinding solutions.\\nPROFILE\\nCountry of origin: Argentina\\nEmail: massotto.fabian@gmail.com\\nPhone: +54 9 11 3146 2971\\nLinkedIn: linkedin.com/in/massottofabian\\nGitHub: github.com/fabimass\\nPortfolio: fabianmassotto.vercel.app\\nCONTACT INFO\\nPython\\nDjango\\nAzure\\nTerraform\\nGitHub\\nDocker\\nBackstage\\nStorybookboost productivity for engineering teams.\\nErnst & Young\\nSoftware Engineer\\nJun 2019 - Jul 2020\\nAs a member of the Computer Forensics team, my main\\nresponsibilities involved engineering ETL pipelines to\\ntransform digital evidence into structured formats, making\\ndata accessible and actionable for auditors and fraud\\ninvestigators.\\nCAREER SUMMARY\\nUniversity of Buenos Aires\\nMaster’s degree, Artificial Intelligence         Mar 2024  - Present\\nUniversidad Tecnológica NacionalFABIAN MASSOTTO\\nSOFTWARE ENGINEER\\nExxonMobil\\nSoftware Engineer\\nJul 2020 - Present\\nSpecialized in design and development of cloud-based web\\napplications, my daily responsibilities involve every aspect of\\nthe web development lifecycle, including frontend and backend\\ncoding, CI/CD pipelines, infrastructure as code, and testing.\\nOver the past years, I have worked with various cross-\\nfunctional teams, providing guidance on web development\\nbest practices, diagnosing application performance issues, and'], 'detector': ['fabian'], 'complete': False}\n"
     ]
    },
    {
     "data": {
      "text/plain": [
       "{'question': 'donde trabaja?',\n",
       " 'context': ['key to success. A problem solver at heart, I approach\\nchallenging scenarios with a creative mindset and enjoy\\nfinding solutions.\\nPROFILE\\nCountry of origin: Argentina\\nEmail: massotto.fabian@gmail.com\\nPhone: +54 9 11 3146 2971\\nLinkedIn: linkedin.com/in/massottofabian\\nGitHub: github.com/fabimass\\nPortfolio: fabianmassotto.vercel.app\\nCONTACT INFO\\nPython\\nDjango\\nAzure\\nTerraform\\nGitHub\\nDocker\\nBackstage\\nStorybookboost productivity for engineering teams.\\nErnst & Young\\nSoftware Engineer\\nJun 2019 - Jul 2020\\nAs a member of the Computer Forensics team, my main\\nresponsibilities involved engineering ETL pipelines to\\ntransform digital evidence into structured formats, making\\ndata accessible and actionable for auditors and fraud\\ninvestigators.\\nCAREER SUMMARY\\nUniversity of Buenos Aires\\nMaster’s degree, Artificial Intelligence         Mar 2024  - Present\\nUniversidad Tecnológica NacionalFABIAN MASSOTTO\\nSOFTWARE ENGINEER\\nExxonMobil\\nSoftware Engineer\\nJul 2020 - Present\\nSpecialized in design and development of cloud-based web\\napplications, my daily responsibilities involve every aspect of\\nthe web development lifecycle, including frontend and backend\\ncoding, CI/CD pipelines, infrastructure as code, and testing.\\nOver the past years, I have worked with various cross-\\nfunctional teams, providing guidance on web development\\nbest practices, diagnosing application performance issues, and'],\n",
       " 'detector': ['fabian'],\n",
       " 'llm': 'Fabian Massotto trabaja en ExxonMobil como Software Engineer desde julio de 2020. Además, desarrolló experiencia previa en Ernst & Young como Software Engineer desde junio de 2019 hasta julio de 2020.',\n",
       " 'complete': True}"
      ]
     },
     "execution_count": 58,
     "metadata": {},
     "output_type": "execute_result"
    }
   ],
   "source": [
    "graph.invoke({\"question\": \"donde trabaja?\"})"
   ]
  },
  {
   "cell_type": "code",
   "execution_count": 64,
   "id": "3abfb7b7",
   "metadata": {},
   "outputs": [
    {
     "name": "stdout",
     "output_type": "stream",
     "text": [
      "{'question': 'cual es la diferencia entre la profesion de Fabian y la de Richard?', 'context': [], 'detector': ['mock', 'fabian']}\n",
      "{'question': 'cual es la diferencia entre la profesion de Fabian y la de Richard?', 'context': [\"EDUCATION\\nRICHARD SANCHEZ\\nMARKETING MANAGER \\nCONTACT\\n+123-456-7890\\nhello@reallygreatsite.com\\n123 Anywhere St., Any City\\nwww.reallygreatsite.com\\nSKILLS\\nProject Management\\nPublic Relations\\nTeamwork\\nTime Management\\nLeadership\\nEffective Communication\\nCritical Thinking\\nWARDIERE UNIVERSITY\\nMaster of Business\\nManagement\\n2029 - 2030\\n2025 - 2029 \\nWARDIERE UNIVERSITY\\nBachelor of Business\\nGPA: 3.8 / 4.0\\nEnglish (Fluent)\\nFrench (Fluent)\\nGerman (Basics)\\nSpanish (Intermediate)\\nLANGUAGES\\nWORK EXPERIENCE\\nREFERENCE\\nPROFILELANGUAGES\\nWORK EXPERIENCE\\nREFERENCE\\nPROFILE\\nLorem ipsum dolor sit amet, consectetur adipiscing elit, sed do eiusmod tempor\\nincididunt ut labore et dolore magna aliqua. Ut enim ad minim veniam quis\\nnostrud exercitation. Lorem ipsum dolor sit amet, consectetur adipiscing elit,\\nsed do eiusmod tempor incididunt ut labore et dolore magna aliqua. Ut enim ad\\nminim veniam quis nostrud exercitation. Ut enim ad minim veniam quis nostrud\\nexercitation.\\n123-456-7890\\nhello@reallygreatsite.com\\nHarper Richard\\nPhone:123-456-7890\\nhello@reallygreatsite.com\\nHarper Richard\\nPhone: \\nEmail :\\nWardiere Inc. / CEO\\n123-456-7890\\nhello@reallygreatsite.com\\nEstelle Darcy\\nPhone: \\nEmail :\\nWardiere Inc. / CTO\\n2030 - PRESENTBorcelle Studio\\nMarketing Manager & Specialist \\n 2025 -  2029 Fauget Studio\\nMarketing Manager & Specialist \\n 2024 - 2025 Studio Shodwe \\nMarketing Manager & Specialist \\nDevelop and execute comprehensive marketing strategies and\\ncampaigns that align with the company's goals and objectives.\"], 'detector': ['mock', 'fabian'], 'complete': False}\n",
      "{'question': 'cual es la diferencia entre la profesion de Fabian y la de Richard?', 'context': [\"EDUCATION\\nRICHARD SANCHEZ\\nMARKETING MANAGER \\nCONTACT\\n+123-456-7890\\nhello@reallygreatsite.com\\n123 Anywhere St., Any City\\nwww.reallygreatsite.com\\nSKILLS\\nProject Management\\nPublic Relations\\nTeamwork\\nTime Management\\nLeadership\\nEffective Communication\\nCritical Thinking\\nWARDIERE UNIVERSITY\\nMaster of Business\\nManagement\\n2029 - 2030\\n2025 - 2029 \\nWARDIERE UNIVERSITY\\nBachelor of Business\\nGPA: 3.8 / 4.0\\nEnglish (Fluent)\\nFrench (Fluent)\\nGerman (Basics)\\nSpanish (Intermediate)\\nLANGUAGES\\nWORK EXPERIENCE\\nREFERENCE\\nPROFILELANGUAGES\\nWORK EXPERIENCE\\nREFERENCE\\nPROFILE\\nLorem ipsum dolor sit amet, consectetur adipiscing elit, sed do eiusmod tempor\\nincididunt ut labore et dolore magna aliqua. Ut enim ad minim veniam quis\\nnostrud exercitation. Lorem ipsum dolor sit amet, consectetur adipiscing elit,\\nsed do eiusmod tempor incididunt ut labore et dolore magna aliqua. Ut enim ad\\nminim veniam quis nostrud exercitation. Ut enim ad minim veniam quis nostrud\\nexercitation.\\n123-456-7890\\nhello@reallygreatsite.com\\nHarper Richard\\nPhone:123-456-7890\\nhello@reallygreatsite.com\\nHarper Richard\\nPhone: \\nEmail :\\nWardiere Inc. / CEO\\n123-456-7890\\nhello@reallygreatsite.com\\nEstelle Darcy\\nPhone: \\nEmail :\\nWardiere Inc. / CTO\\n2030 - PRESENTBorcelle Studio\\nMarketing Manager & Specialist \\n 2025 -  2029 Fauget Studio\\nMarketing Manager & Specialist \\n 2024 - 2025 Studio Shodwe \\nMarketing Manager & Specialist \\nDevelop and execute comprehensive marketing strategies and\\ncampaigns that align with the company's goals and objectives.\", 'key to success. A problem solver at heart, I approach\\nchallenging scenarios with a creative mindset and enjoy\\nfinding solutions.\\nPROFILE\\nCountry of origin: Argentina\\nEmail: massotto.fabian@gmail.com\\nPhone: +54 9 11 3146 2971\\nLinkedIn: linkedin.com/in/massottofabian\\nGitHub: github.com/fabimass\\nPortfolio: fabianmassotto.vercel.app\\nCONTACT INFO\\nPython\\nDjango\\nAzure\\nTerraform\\nGitHub\\nDocker\\nBackstage\\nStorybookboost productivity for engineering teams.\\nErnst & Young\\nSoftware Engineer\\nJun 2019 - Jul 2020\\nAs a member of the Computer Forensics team, my main\\nresponsibilities involved engineering ETL pipelines to\\ntransform digital evidence into structured formats, making\\ndata accessible and actionable for auditors and fraud\\ninvestigators.\\nCAREER SUMMARY\\nUniversity of Buenos Aires\\nMaster’s degree, Artificial Intelligence         Mar 2024  - Present\\nUniversidad Tecnológica NacionalFABIAN MASSOTTO\\nSOFTWARE ENGINEER\\nExxonMobil\\nSoftware Engineer\\nJul 2020 - Present\\nSpecialized in design and development of cloud-based web\\napplications, my daily responsibilities involve every aspect of\\nthe web development lifecycle, including frontend and backend\\ncoding, CI/CD pipelines, infrastructure as code, and testing.\\nOver the past years, I have worked with various cross-\\nfunctional teams, providing guidance on web development\\nbest practices, diagnosing application performance issues, and'], 'detector': ['mock', 'fabian'], 'complete': False}\n"
     ]
    },
    {
     "data": {
      "text/plain": [
       "{'question': 'cual es la diferencia entre la profesion de Fabian y la de Richard?',\n",
       " 'context': [\"EDUCATION\\nRICHARD SANCHEZ\\nMARKETING MANAGER \\nCONTACT\\n+123-456-7890\\nhello@reallygreatsite.com\\n123 Anywhere St., Any City\\nwww.reallygreatsite.com\\nSKILLS\\nProject Management\\nPublic Relations\\nTeamwork\\nTime Management\\nLeadership\\nEffective Communication\\nCritical Thinking\\nWARDIERE UNIVERSITY\\nMaster of Business\\nManagement\\n2029 - 2030\\n2025 - 2029 \\nWARDIERE UNIVERSITY\\nBachelor of Business\\nGPA: 3.8 / 4.0\\nEnglish (Fluent)\\nFrench (Fluent)\\nGerman (Basics)\\nSpanish (Intermediate)\\nLANGUAGES\\nWORK EXPERIENCE\\nREFERENCE\\nPROFILELANGUAGES\\nWORK EXPERIENCE\\nREFERENCE\\nPROFILE\\nLorem ipsum dolor sit amet, consectetur adipiscing elit, sed do eiusmod tempor\\nincididunt ut labore et dolore magna aliqua. Ut enim ad minim veniam quis\\nnostrud exercitation. Lorem ipsum dolor sit amet, consectetur adipiscing elit,\\nsed do eiusmod tempor incididunt ut labore et dolore magna aliqua. Ut enim ad\\nminim veniam quis nostrud exercitation. Ut enim ad minim veniam quis nostrud\\nexercitation.\\n123-456-7890\\nhello@reallygreatsite.com\\nHarper Richard\\nPhone:123-456-7890\\nhello@reallygreatsite.com\\nHarper Richard\\nPhone: \\nEmail :\\nWardiere Inc. / CEO\\n123-456-7890\\nhello@reallygreatsite.com\\nEstelle Darcy\\nPhone: \\nEmail :\\nWardiere Inc. / CTO\\n2030 - PRESENTBorcelle Studio\\nMarketing Manager & Specialist \\n 2025 -  2029 Fauget Studio\\nMarketing Manager & Specialist \\n 2024 - 2025 Studio Shodwe \\nMarketing Manager & Specialist \\nDevelop and execute comprehensive marketing strategies and\\ncampaigns that align with the company's goals and objectives.\",\n",
       "  'key to success. A problem solver at heart, I approach\\nchallenging scenarios with a creative mindset and enjoy\\nfinding solutions.\\nPROFILE\\nCountry of origin: Argentina\\nEmail: massotto.fabian@gmail.com\\nPhone: +54 9 11 3146 2971\\nLinkedIn: linkedin.com/in/massottofabian\\nGitHub: github.com/fabimass\\nPortfolio: fabianmassotto.vercel.app\\nCONTACT INFO\\nPython\\nDjango\\nAzure\\nTerraform\\nGitHub\\nDocker\\nBackstage\\nStorybookboost productivity for engineering teams.\\nErnst & Young\\nSoftware Engineer\\nJun 2019 - Jul 2020\\nAs a member of the Computer Forensics team, my main\\nresponsibilities involved engineering ETL pipelines to\\ntransform digital evidence into structured formats, making\\ndata accessible and actionable for auditors and fraud\\ninvestigators.\\nCAREER SUMMARY\\nUniversity of Buenos Aires\\nMaster’s degree, Artificial Intelligence         Mar 2024  - Present\\nUniversidad Tecnológica NacionalFABIAN MASSOTTO\\nSOFTWARE ENGINEER\\nExxonMobil\\nSoftware Engineer\\nJul 2020 - Present\\nSpecialized in design and development of cloud-based web\\napplications, my daily responsibilities involve every aspect of\\nthe web development lifecycle, including frontend and backend\\ncoding, CI/CD pipelines, infrastructure as code, and testing.\\nOver the past years, I have worked with various cross-\\nfunctional teams, providing guidance on web development\\nbest practices, diagnosing application performance issues, and'],\n",
       " 'detector': ['mock', 'fabian'],\n",
       " 'llm': 'Según el contexto, la profesión de Fabian es SOFTWARE ENGINEER, mientras que la de Richard es MARKETING MANAGER.',\n",
       " 'complete': True}"
      ]
     },
     "execution_count": 64,
     "metadata": {},
     "output_type": "execute_result"
    }
   ],
   "source": [
    "graph.invoke({\"question\": \"cual es la diferencia entre la profesion de Fabian y la de Richard?\"})"
   ]
  }
 ],
 "metadata": {
  "kernelspec": {
   "display_name": "venv",
   "language": "python",
   "name": "python3"
  },
  "language_info": {
   "codemirror_mode": {
    "name": "ipython",
    "version": 3
   },
   "file_extension": ".py",
   "mimetype": "text/x-python",
   "name": "python",
   "nbconvert_exporter": "python",
   "pygments_lexer": "ipython3",
   "version": "3.12.7"
  }
 },
 "nbformat": 4,
 "nbformat_minor": 5
}
