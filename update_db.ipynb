{
 "cells": [
  {
   "cell_type": "code",
   "execution_count": 1,
   "metadata": {},
   "outputs": [
    {
     "name": "stderr",
     "output_type": "stream",
     "text": [
      "c:\\Users\\Fabi\\Documents\\repos\\ceia-llm\\venv\\Lib\\site-packages\\pinecone\\data\\index.py:1: TqdmWarning: IProgress not found. Please update jupyter and ipywidgets. See https://ipywidgets.readthedocs.io/en/stable/user_install.html\n",
      "  from tqdm.autonotebook import tqdm\n"
     ]
    }
   ],
   "source": [
    "import os\n",
    "from langchain_text_splitters import RecursiveCharacterTextSplitter\n",
    "from langchain_community.document_loaders import PyPDFLoader\n",
    "from langchain_huggingface import HuggingFaceEmbeddings\n",
    "from langchain_pinecone import PineconeVectorStore\n",
    "from pinecone import Pinecone, ServerlessSpec"
   ]
  },
  {
   "cell_type": "markdown",
   "metadata": {},
   "source": [
    "#### Cargo el pdf y lo separo en chunks"
   ]
  },
  {
   "cell_type": "code",
   "execution_count": 5,
   "metadata": {},
   "outputs": [
    {
     "name": "stdout",
     "output_type": "stream",
     "text": [
      "Number of chunks: 6\n",
      "page_content='FABIAN MASSOTTO\n",
      "SOFTWARE ENGINEER\n",
      "ExxonMobil\n",
      "Software Engineer\n",
      "Jul 2020 - Present\n",
      "Specialized in design and development of cloud-based web\n",
      "applications, my daily responsibilities involve every aspect of\n",
      "the web development lifecycle, including frontend and backend\n",
      "coding, CI/CD pipelines, infrastructure as code, and testing.\n",
      "Over the past years, I have worked with various cross-\n",
      "functional teams, providing guidance on web development\n",
      "best practices, diagnosing application performance issues, and' metadata={'source': './docs/fabian-cv.pdf', 'page': 0}\n"
     ]
    }
   ],
   "source": [
    "splitter = RecursiveCharacterTextSplitter(chunk_size=512, chunk_overlap=64)\n",
    "\n",
    "loader = PyPDFLoader(\"./docs/fabian-cv.pdf\")\n",
    "\n",
    "chunks = loader.load_and_split(text_splitter=splitter)\n",
    "\n",
    "print(f\"Number of chunks: {len(chunks)}\")\n",
    "\n",
    "print(chunks[0])"
   ]
  },
  {
   "cell_type": "markdown",
   "metadata": {},
   "source": [
    "#### Embeddings"
   ]
  },
  {
   "cell_type": "code",
   "execution_count": 3,
   "metadata": {},
   "outputs": [],
   "source": [
    "embed_model = HuggingFaceEmbeddings(model_name=\"sentence-transformers/all-mpnet-base-v2\")"
   ]
  },
  {
   "cell_type": "markdown",
   "metadata": {},
   "source": [
    "#### Base de datos vectorial"
   ]
  },
  {
   "cell_type": "code",
   "execution_count": 6,
   "metadata": {},
   "outputs": [
    {
     "name": "stdout",
     "output_type": "stream",
     "text": [
      "index ceia borrado\n",
      "index creado con el nombre: ceia\n"
     ]
    }
   ],
   "source": [
    "PINECONE_API_KEY=os.getenv(\"API_KEY_PINECONE\")\n",
    "\n",
    "#Connect to DB Pinecone\n",
    "pc=Pinecone(api_key=PINECONE_API_KEY)\n",
    "cloud = os.environ.get('PINECONE_CLOUD') or 'aws'\n",
    "region = os.environ.get('PINECONE_REGION') or 'us-east-1'\n",
    "spec = ServerlessSpec(cloud=cloud, region=region)\n",
    "index_name = 'ceia'\n",
    "\n",
    "if index_name in pc.list_indexes().names():\n",
    "  pc.delete_index(index_name)\n",
    "  print(\"index {} borrado\".format(index_name))\n",
    "\n",
    "# check if index already exists (it shouldn't if this is first time)\n",
    "if index_name not in pc.list_indexes().names():\n",
    "    # if does not exist, create index\n",
    "    print(\"index creado con el nombre: {}\".format(index_name))\n",
    "    pc.create_index(\n",
    "        index_name,\n",
    "        dimension=768,  # dimensionality of sentence-transformers/all-mpnet-base-v2\n",
    "        metric='cosine',\n",
    "        spec=spec\n",
    "        )\n",
    "else:\n",
    "    print(\"el index con el nombre {} ya estaba creado\".format(index_name))"
   ]
  },
  {
   "cell_type": "code",
   "execution_count": 7,
   "metadata": {},
   "outputs": [],
   "source": [
    "pinecone = PineconeVectorStore(\n",
    "    embedding=embed_model,\n",
    "    index_name=\"ceia\",\n",
    "    pinecone_api_key=PINECONE_API_KEY\n",
    ")"
   ]
  },
  {
   "cell_type": "code",
   "execution_count": 8,
   "metadata": {},
   "outputs": [
    {
     "name": "stdout",
     "output_type": "stream",
     "text": [
      "Documentos a insertar: 6.\n",
      "Insertados 6 documentos con éxito.\n"
     ]
    }
   ],
   "source": [
    "print(f\"Documentos a insertar: {len(chunks)}.\")\n",
    "\n",
    "inserted_ids = pinecone.add_documents(chunks)\n",
    "\n",
    "print(f\"Insertados {len(inserted_ids)} documentos con éxito.\")"
   ]
  },
  {
   "cell_type": "markdown",
   "metadata": {},
   "source": [
    "#### Búsqueda"
   ]
  },
  {
   "cell_type": "code",
   "execution_count": 9,
   "metadata": {},
   "outputs": [],
   "source": [
    "def search_vstore(query, vstore):\n",
    "    results = vstore.similarity_search(query, k=3)\n",
    "    for res in results:\n",
    "        print(f\"* {res.page_content} \\n[{res.metadata}] \\n\")"
   ]
  },
  {
   "cell_type": "code",
   "execution_count": 10,
   "metadata": {},
   "outputs": [
    {
     "name": "stdout",
     "output_type": "stream",
     "text": [
      "* key to success. A problem solver at heart, I approach\n",
      "challenging scenarios with a creative mindset and enjoy\n",
      "finding solutions.\n",
      "PROFILE\n",
      "Country of origin: Argentina\n",
      "Email: massotto.fabian@gmail.com\n",
      "Phone: +54 9 11 3146 2971\n",
      "LinkedIn: linkedin.com/in/massottofabian\n",
      "GitHub: github.com/fabimass\n",
      "Portfolio: fabianmassotto.vercel.app\n",
      "CONTACT INFO\n",
      "Python\n",
      "Django\n",
      "Azure\n",
      "Terraform\n",
      "GitHub\n",
      "Docker\n",
      "Backstage\n",
      "Storybook \n",
      "[{'page': 0.0, 'source': './docs/fabian-cv.pdf'}] \n",
      "\n",
      "* FABIAN MASSOTTO\n",
      "SOFTWARE ENGINEER\n",
      "ExxonMobil\n",
      "Software Engineer\n",
      "Jul 2020 - Present\n",
      "Specialized in design and development of cloud-based web\n",
      "applications, my daily responsibilities involve every aspect of\n",
      "the web development lifecycle, including frontend and backend\n",
      "coding, CI/CD pipelines, infrastructure as code, and testing.\n",
      "Over the past years, I have worked with various cross-\n",
      "functional teams, providing guidance on web development\n",
      "best practices, diagnosing application performance issues, and \n",
      "[{'page': 0.0, 'source': './docs/fabian-cv.pdf'}] \n",
      "\n",
      "* boost productivity for engineering teams.\n",
      "Ernst & Young\n",
      "Software Engineer\n",
      "Jun 2019 - Jul 2020\n",
      "As a member of the Computer Forensics team, my main\n",
      "responsibilities involved engineering ETL pipelines to\n",
      "transform digital evidence into structured formats, making\n",
      "data accessible and actionable for auditors and fraud\n",
      "investigators.\n",
      "CAREER SUMMARY\n",
      "University of Buenos Aires\n",
      "Master’s degree, Artificial Intelligence         Mar 2024  - Present\n",
      "Universidad Tecnológica Nacional \n",
      "[{'page': 0.0, 'source': './docs/fabian-cv.pdf'}] \n",
      "\n"
     ]
    }
   ],
   "source": [
    "search_vstore(\"who is Fabian?\", pinecone)"
   ]
  }
 ],
 "metadata": {
  "kernelspec": {
   "display_name": "venv",
   "language": "python",
   "name": "python3"
  },
  "language_info": {
   "codemirror_mode": {
    "name": "ipython",
    "version": 3
   },
   "file_extension": ".py",
   "mimetype": "text/x-python",
   "name": "python",
   "nbconvert_exporter": "python",
   "pygments_lexer": "ipython3",
   "version": "3.12.7"
  }
 },
 "nbformat": 4,
 "nbformat_minor": 2
}
